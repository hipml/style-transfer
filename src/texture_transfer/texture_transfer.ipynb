{
 "cells": [
  {
   "cell_type": "markdown",
   "metadata": {},
   "source": [
    "Code based on Matt's implementation of Project #2, which includes starter code and utilities provided in the course"
   ]
  },
  {
   "cell_type": "code",
   "execution_count": 1,
   "metadata": {},
   "outputs": [],
   "source": [
    "# Setup in VSCode\n",
    "def setup():\n",
    "    # %pip install -r ../requirements.txt\n",
    "    %matplotlib widget\n",
    "    \n",
    "setup()"
   ]
  },
  {
   "cell_type": "code",
   "execution_count": 2,
   "metadata": {},
   "outputs": [],
   "source": [
    "import cv2\n",
    "import numpy as np\n",
    "import matplotlib.pyplot as plt\n",
    "from random import randrange\n",
    "\n",
    "datadir = \"resources/\"\n",
    "\n",
    "import utils\n",
    "from utils import cut"
   ]
  },
  {
   "cell_type": "code",
   "execution_count": 4,
   "metadata": {},
   "outputs": [],
   "source": [
    "# HELPER FUNCTIONS\n",
    "\n",
    "def choose_sample(x, y, patch_size, sample, guidance_im, alpha, output_padded, mask_padded, tol=1, overlap=0, seam_cut = False, random = False, display_seam_cut_charts=False):\n",
    "    seam_cut = False if random else seam_cut\n",
    "    if random:\n",
    "        patch_coords = get_patch_random(sample.shape[1], sample.shape[0], patch_size)\n",
    "        patch = sample[patch_coords[0]:patch_coords[0] + patch_size, patch_coords[1]:patch_coords[1] + patch_size]\n",
    "    else:\n",
    "        T = output_padded[y+patch_size:y+2*patch_size, x+patch_size:x+2*patch_size]\n",
    "        M = mask_padded[y+patch_size:y+2*patch_size, x+patch_size:x+2*patch_size]\n",
    "        ssd_image = ssd_image_generate(\n",
    "            T=T, \n",
    "            M=M, \n",
    "            I=sample\n",
    "        )\n",
    "        ssd_guidance = ssd_image_generate(\n",
    "            T=guidance_im[y+patch_size:y+2*patch_size, x+patch_size:x+2*patch_size],\n",
    "            M=M,\n",
    "            I=sample\n",
    "        )\n",
    "        patch_coords = get_patch_ssd(\n",
    "            ssd_image=ssd_image*(1-alpha) + ssd_guidance*alpha,\n",
    "            tol=tol,\n",
    "            patch_size=patch_size\n",
    "        )\n",
    "        patch = sample[patch_coords[0]:patch_coords[0] + patch_size, patch_coords[1]:patch_coords[1] + patch_size]\n",
    "        if seam_cut:\n",
    "            T_gray = cv2.cvtColor(np.array(T*255.0, dtype=np.uint8), cv2.COLOR_RGB2GRAY)\n",
    "            is_on_left_column = x == 0\n",
    "            is_on_top_row = y == 0\n",
    "            left_seam = np.zeros(shape=(patch_size, patch_size), dtype=np.uint8)\n",
    "            top_seam = np.zeros(shape=(patch_size, patch_size), dtype=np.uint8)\n",
    "            if not is_on_left_column:\n",
    "                left_seam[:,:overlap] = 1-utils.cut(T_gray[:,:overlap].T).T\n",
    "            if not is_on_top_row:\n",
    "                top_seam[:overlap,:] = 1-utils.cut(T_gray[:overlap,:])\n",
    "            mask_combined_seams = np.logical_or(left_seam, top_seam).astype(np.uint8)\n",
    "            if display_seam_cut_charts:\n",
    "                display(f\"{(is_on_left_column, is_on_top_row)}, {(y, patch_size)}\")\n",
    "                fig, ax = plt.subplots(1,6, figsize=(10,10))\n",
    "                ax[0].imshow(T)\n",
    "                ax[0].title.set_text(\"Two Overlapping\\nPortions\")\n",
    "                ax[1].imshow(get_cost(T_gray))\n",
    "                ax[1].title.set_text(\"Pixelwise\\nSSD Cost\")\n",
    "                ax[2].imshow(top_seam)\n",
    "                ax[2].title.set_text(\"Horizontal Mask\")\n",
    "                ax[3].imshow(left_seam)\n",
    "                ax[3].title.set_text(\"Vertical Mask\")\n",
    "                ax[4].imshow(mask_combined_seams)\n",
    "                ax[4].title.set_text(\"Combined Masks\")\n",
    "                mask_applied = T.copy()\n",
    "                mask_applied[:,:,0] = T[:,:,0]*mask_combined_seams\n",
    "                mask_applied[:,:,1] = T[:,:,1]*mask_combined_seams\n",
    "                mask_applied[:,:,2] = T[:,:,2]*mask_combined_seams\n",
    "                ax[5].imshow(mask_applied)\n",
    "                ax[5].title.set_text(\"Mask Applied\")\n",
    "            M = mask_combined_seams\n",
    "    \n",
    "    if not seam_cut:\n",
    "        output_padded[y+patch_size:y+2*patch_size, x+patch_size:x+2*patch_size] = patch\n",
    "    else:\n",
    "        output_padded[y+patch_size:y+2*patch_size, x+patch_size:x+2*patch_size,0] = output_padded[y+patch_size:y+2*patch_size, x+patch_size:x+2*patch_size,0] * (mask_combined_seams) + patch[:,:,0]*(1-mask_combined_seams)\n",
    "        output_padded[y+patch_size:y+2*patch_size, x+patch_size:x+2*patch_size,1] = output_padded[y+patch_size:y+2*patch_size, x+patch_size:x+2*patch_size,1] * (mask_combined_seams) + patch[:,:,1]*(1-mask_combined_seams)\n",
    "        output_padded[y+patch_size:y+2*patch_size, x+patch_size:x+2*patch_size,2] = output_padded[y+patch_size:y+2*patch_size, x+patch_size:x+2*patch_size,2] * (mask_combined_seams) + patch[:,:,2]*(1-mask_combined_seams)\n",
    "    mask_padded[y+patch_size:y+2*patch_size, x+patch_size:x+2*patch_size] = np.ones(shape=(patch_size, patch_size))\n",
    "    return output_padded, mask_padded\n",
    "\n",
    "def choose_sample_ALTERNATE(x, y, patch_size, sample, output_padded, mask_padded, tol=1, overlap=0, seam_cut = False, random = False, display_seam_cut_charts=False):\n",
    "    seam_cut = False if random else seam_cut\n",
    "    if random:\n",
    "        patch_coords = get_patch_random(sample.shape[1], sample.shape[0], patch_size)\n",
    "        patch = sample[patch_coords[0]:patch_coords[0] + patch_size, patch_coords[1]:patch_coords[1] + patch_size]\n",
    "    else:\n",
    "        T = output_padded[y+patch_size:y+2*patch_size, x+patch_size:x+2*patch_size]\n",
    "        M = mask_padded[y+patch_size:y+2*patch_size, x+patch_size:x+2*patch_size]\n",
    "        ssd_image = ssd_image_generate(\n",
    "            T=T, \n",
    "            M=M, \n",
    "            I=sample\n",
    "        )\n",
    "        patch_coords = get_patch_ssd(\n",
    "            ssd_image=ssd_image,\n",
    "            tol=tol,\n",
    "            patch_size=patch_size\n",
    "        )\n",
    "        patch = sample[patch_coords[0]:patch_coords[0] + patch_size, patch_coords[1]:patch_coords[1] + patch_size]\n",
    "        if seam_cut:\n",
    "            is_on_left_column = x == 0\n",
    "            is_on_top_row = y == 0\n",
    "            T_seam = ssd_image_generate(\n",
    "                    T = T,\n",
    "                    M = np.ones(shape=(patch_size, patch_size), dtype=np.uint8),\n",
    "                    I = patch\n",
    "                )\n",
    "            left_seam = np.zeros(shape=(patch_size, patch_size), dtype=np.uint8)\n",
    "            top_seam = np.zeros(shape=(patch_size, patch_size), dtype=np.uint8)\n",
    "            if not is_on_left_column:\n",
    "                left_seam[:,:overlap] = 1-utils.cut(T_seam[:,:overlap].T).T\n",
    "            if not is_on_top_row:\n",
    "                top_seam[:overlap,:] = 1-utils.cut(T_seam[:overlap,:])\n",
    "            mask_combined_seams = np.logical_or(left_seam, top_seam).astype(np.uint8)\n",
    "            if display_seam_cut_charts:\n",
    "                display(f\"{(is_on_left_column, is_on_top_row)}, {(y, patch_size)}\")\n",
    "                fig, ax = plt.subplots(1,6, figsize=(10,10))\n",
    "                ax[0].imshow(T)\n",
    "                ax[0].title.set_text(\"Two Overlapping\\nPortions\")\n",
    "                ax[1].imshow(T_seam)\n",
    "                ax[1].title.set_text(\"Pixelwise\\nSSD Cost\")\n",
    "                ax[2].imshow(top_seam)\n",
    "                ax[2].title.set_text(\"Horizontal Mask\")\n",
    "                ax[3].imshow(left_seam)\n",
    "                ax[3].title.set_text(\"Vertical Mask\")\n",
    "                ax[4].imshow(mask_combined_seams)\n",
    "                ax[4].title.set_text(\"Combined Masks\")\n",
    "                mask_applied = T.copy()\n",
    "                mask_applied[:,:,0] = T[:,:,0]*mask_combined_seams\n",
    "                mask_applied[:,:,1] = T[:,:,1]*mask_combined_seams\n",
    "                mask_applied[:,:,2] = T[:,:,2]*mask_combined_seams\n",
    "                ax[5].imshow(mask_applied)\n",
    "                ax[5].title.set_text(\"Mask Applied\")\n",
    "            M = mask_combined_seams\n",
    "    \n",
    "    if not seam_cut:\n",
    "        output_padded[y+patch_size:y+2*patch_size, x+patch_size:x+2*patch_size] = patch\n",
    "    else:\n",
    "        output_padded[y+patch_size:y+2*patch_size, x+patch_size:x+2*patch_size,0] = output_padded[y+patch_size:y+2*patch_size, x+patch_size:x+2*patch_size,0] * (mask_combined_seams) + patch[:,:,0]*(1-mask_combined_seams)\n",
    "        output_padded[y+patch_size:y+2*patch_size, x+patch_size:x+2*patch_size,1] = output_padded[y+patch_size:y+2*patch_size, x+patch_size:x+2*patch_size,1] * (mask_combined_seams) + patch[:,:,1]*(1-mask_combined_seams)\n",
    "        output_padded[y+patch_size:y+2*patch_size, x+patch_size:x+2*patch_size,2] = output_padded[y+patch_size:y+2*patch_size, x+patch_size:x+2*patch_size,2] * (mask_combined_seams) + patch[:,:,2]*(1-mask_combined_seams)\n",
    "    mask_padded[y+patch_size:y+2*patch_size, x+patch_size:x+2*patch_size] = np.ones(shape=(patch_size, patch_size))\n",
    "    return output_padded, mask_padded\n",
    "\n",
    "def ssd_image_generate(T, M, I):\n",
    "    ssd_cost_r = ((M*T[:,:,0])**2).sum() - 2 * cv2.filter2D(I[:,:,0], ddepth=-1, kernel = M*T[:,:,0]) + cv2.filter2D(I[:,:,0] ** 2, ddepth=-1, kernel=M)\n",
    "    ssd_cost_g = ((M*T[:,:,1])**2).sum() - 2 * cv2.filter2D(I[:,:,1], ddepth=-1, kernel = M*T[:,:,1]) + cv2.filter2D(I[:,:,1] ** 2, ddepth=-1, kernel=M)\n",
    "    ssd_cost_b = ((M*T[:,:,2])**2).sum() - 2 * cv2.filter2D(I[:,:,2], ddepth=-1, kernel = M*T[:,:,2]) + cv2.filter2D(I[:,:,2] ** 2, ddepth=-1, kernel=M)\n",
    "    ssd_map = np.array(ssd_cost_r + ssd_cost_g + ssd_cost_b)\n",
    "    return ssd_map\n",
    "\n",
    "def get_patch_ssd(ssd_image, tol, patch_size):\n",
    "    patch_radius = int(patch_size*0.5)\n",
    "    ssd_image = ssd_image.copy()[patch_radius:-patch_radius, patch_radius:-patch_radius]\n",
    "    # find _tol_ max values in ssd_image\n",
    "    max_coords = []\n",
    "    for i in range(tol+1):\n",
    "        # https://stackoverflow.com/questions/55284090/how-to-find-maximum-value-in-whole-2d-array-with-indices\n",
    "        if len(ssd_image) == 0:\n",
    "            display(\"SSD IMAGE == 0\")\n",
    "            plt.figure()\n",
    "            plt.imshow(ssd_image)\n",
    "        current_max_coords = np.unravel_index(np.argmin(ssd_image), (ssd_image.shape[0], ssd_image.shape[1]))\n",
    "        ssd_image[current_max_coords] = 20\n",
    "        max_coords.append(current_max_coords)\n",
    "    out_coords = max_coords[randrange(0, tol)]\n",
    "    return out_coords\n",
    "\n",
    "def get_patch_random(width, height, patch_size):\n",
    "    random_x = randrange(0, width - patch_size)\n",
    "    random_y = randrange(0, height - patch_size)\n",
    "    return (random_y, random_x)"
   ]
  },
  {
   "cell_type": "code",
   "execution_count": 5,
   "metadata": {},
   "outputs": [],
   "source": [
    "from math import ceil\n",
    "from ipywidgets import IntProgress\n",
    "\n",
    "def texture_transfer(sample, patch_size, overlap, tol, guidance_im, alpha):\n",
    "    seam_cut = True\n",
    "    random = False\n",
    "    debug = False\n",
    "    tile_to_stop_at = -1\n",
    "    # ensure odd patch_size\n",
    "    if patch_size%2 != 1:\n",
    "        patch_size += 1\n",
    "        print(f\"Patch size increased to {patch_size}!\")\n",
    "        \n",
    "    if debug:\n",
    "        tol=1\n",
    "        display(\"DEBUG: TOL=1\")\n",
    "        \n",
    "    # params\n",
    "    num_tiles_x = ceil(guidance_im.shape[1]/(patch_size-overlap))\n",
    "    num_tiles_y = ceil(guidance_im.shape[0]/(patch_size-overlap))\n",
    "    \n",
    "    sample, sample_w, sample_h = sample/255.0, sample.shape[1], sample.shape[0]\n",
    "    output_padded = np.zeros(shape=(guidance_im.shape[0]+2*patch_size, guidance_im.shape[1]+2*patch_size,3), dtype=np.float32)\n",
    "    mask_padded = np.zeros(shape=(guidance_im.shape[0]+2*patch_size, guidance_im.shape[1]+2*patch_size), dtype=np.uint8)\n",
    "    guidance_padded = output_padded.copy()\n",
    "    guidance_padded[patch_size:-patch_size,patch_size:-patch_size] = guidance_im/255.0\n",
    "    \n",
    "    # add random patch to the top left corner\n",
    "    patch_x_random = randrange(0, sample_w - patch_size)\n",
    "    patch_y_random = randrange(0, sample_h - patch_size)\n",
    "    # output_padded[patch_size:2*patch_size, patch_size:2*patch_size] = sample[\n",
    "    #     patch_y_random : patch_y_random + patch_size,\n",
    "    #     patch_x_random : patch_x_random + patch_size\n",
    "    # ]\n",
    "    mask_padded[patch_size:2*patch_size, patch_size:2*patch_size] = np.ones(shape=(patch_size, patch_size))\n",
    "    \n",
    "    current_tile = 0\n",
    "    \n",
    "    progress_bar = IntProgress(min=0, max=num_tiles_y-1)\n",
    "    display(progress_bar)\n",
    "    \n",
    "    for j in range(num_tiles_y):\n",
    "        for i in range(num_tiles_x):\n",
    "            # if i == 0 and j == 0:\n",
    "            #     continue\n",
    "            if tile_to_stop_at == -1 or tile_to_stop_at >= current_tile:\n",
    "                # display((i*(patch_size-overlap),j*(patch_size-overlap)))\n",
    "                output_padded, mask_padded = choose_sample(\n",
    "                    x = i*(patch_size-overlap),\n",
    "                    y = j*(patch_size-overlap),\n",
    "                    patch_size=patch_size,\n",
    "                    sample=sample,\n",
    "                    guidance_im=guidance_padded,\n",
    "                    alpha=alpha,\n",
    "                    output_padded=output_padded,\n",
    "                    mask_padded=mask_padded,\n",
    "                    tol=tol,\n",
    "                    seam_cut=seam_cut,\n",
    "                    overlap=overlap,\n",
    "                    random=random,\n",
    "                    display_seam_cut_charts= tile_to_stop_at == current_tile\n",
    "                )\n",
    "            current_tile += 1\n",
    "        progress_bar.value = j\n",
    "    \n",
    "    output = output_padded[patch_size:-patch_size, patch_size:-patch_size]\n",
    "    output = (output*255.0).astype(np.uint8)\n",
    "    # output = (output_padded*255.0).astype(np.uint8)\n",
    "    return output"
   ]
  },
  {
   "cell_type": "code",
   "execution_count": 12,
   "metadata": {},
   "outputs": [
    {
     "data": {
      "application/vnd.jupyter.widget-view+json": {
       "model_id": "80f7ddb1e43f4d50835caed036c57c23",
       "version_major": 2,
       "version_minor": 0
      },
      "text/plain": [
       "IntProgress(value=0, max=25)"
      ]
     },
     "metadata": {},
     "output_type": "display_data"
    },
    {
     "ename": "KeyboardInterrupt",
     "evalue": "",
     "output_type": "error",
     "traceback": [
      "\u001b[1;31m---------------------------------------------------------------------------\u001b[0m",
      "\u001b[1;31mKeyboardInterrupt\u001b[0m                         Traceback (most recent call last)",
      "Cell \u001b[1;32mIn[12], line 10\u001b[0m\n\u001b[0;32m      8\u001b[0m tol \u001b[38;5;241m=\u001b[39m \u001b[38;5;241m3\u001b[39m\n\u001b[0;32m      9\u001b[0m alpha \u001b[38;5;241m=\u001b[39m \u001b[38;5;241m0.5\u001b[39m\n\u001b[1;32m---> 10\u001b[0m res \u001b[38;5;241m=\u001b[39m \u001b[43mtexture_transfer\u001b[49m\u001b[43m(\u001b[49m\u001b[43mtexture_img\u001b[49m\u001b[43m,\u001b[49m\u001b[43m \u001b[49m\u001b[43mpatch_size\u001b[49m\u001b[43m,\u001b[49m\u001b[43m \u001b[49m\u001b[43moverlap\u001b[49m\u001b[43m,\u001b[49m\u001b[43m \u001b[49m\u001b[43mtol\u001b[49m\u001b[43m,\u001b[49m\u001b[43m \u001b[49m\u001b[43mguidance_img\u001b[49m\u001b[43m,\u001b[49m\u001b[43m \u001b[49m\u001b[43malpha\u001b[49m\u001b[43m)\u001b[49m\n\u001b[0;32m     12\u001b[0m cv2\u001b[38;5;241m.\u001b[39mimwrite(\u001b[38;5;124m\"\u001b[39m\u001b[38;5;124mTest.png\u001b[39m\u001b[38;5;124m\"\u001b[39m, res)\n\u001b[0;32m     14\u001b[0m \u001b[38;5;66;03m# plt.figure(figsize=(15,15))\u001b[39;00m\n\u001b[0;32m     15\u001b[0m \u001b[38;5;66;03m# plt.imshow(res)\u001b[39;00m\n\u001b[0;32m     16\u001b[0m \u001b[38;5;66;03m# plt.show()\u001b[39;00m\n",
      "Cell \u001b[1;32mIn[5], line 48\u001b[0m, in \u001b[0;36mtexture_transfer\u001b[1;34m(sample, patch_size, overlap, tol, guidance_im, alpha)\u001b[0m\n\u001b[0;32m     43\u001b[0m \u001b[38;5;28;01mfor\u001b[39;00m i \u001b[38;5;129;01min\u001b[39;00m \u001b[38;5;28mrange\u001b[39m(num_tiles_x):\n\u001b[0;32m     44\u001b[0m     \u001b[38;5;66;03m# if i == 0 and j == 0:\u001b[39;00m\n\u001b[0;32m     45\u001b[0m     \u001b[38;5;66;03m#     continue\u001b[39;00m\n\u001b[0;32m     46\u001b[0m     \u001b[38;5;28;01mif\u001b[39;00m tile_to_stop_at \u001b[38;5;241m==\u001b[39m \u001b[38;5;241m-\u001b[39m\u001b[38;5;241m1\u001b[39m \u001b[38;5;129;01mor\u001b[39;00m tile_to_stop_at \u001b[38;5;241m>\u001b[39m\u001b[38;5;241m=\u001b[39m current_tile:\n\u001b[0;32m     47\u001b[0m         \u001b[38;5;66;03m# display((i*(patch_size-overlap),j*(patch_size-overlap)))\u001b[39;00m\n\u001b[1;32m---> 48\u001b[0m         output_padded, mask_padded \u001b[38;5;241m=\u001b[39m \u001b[43mchoose_sample\u001b[49m\u001b[43m(\u001b[49m\n\u001b[0;32m     49\u001b[0m \u001b[43m            \u001b[49m\u001b[43mx\u001b[49m\u001b[43m \u001b[49m\u001b[38;5;241;43m=\u001b[39;49m\u001b[43m \u001b[49m\u001b[43mi\u001b[49m\u001b[38;5;241;43m*\u001b[39;49m\u001b[43m(\u001b[49m\u001b[43mpatch_size\u001b[49m\u001b[38;5;241;43m-\u001b[39;49m\u001b[43moverlap\u001b[49m\u001b[43m)\u001b[49m\u001b[43m,\u001b[49m\n\u001b[0;32m     50\u001b[0m \u001b[43m            \u001b[49m\u001b[43my\u001b[49m\u001b[43m \u001b[49m\u001b[38;5;241;43m=\u001b[39;49m\u001b[43m \u001b[49m\u001b[43mj\u001b[49m\u001b[38;5;241;43m*\u001b[39;49m\u001b[43m(\u001b[49m\u001b[43mpatch_size\u001b[49m\u001b[38;5;241;43m-\u001b[39;49m\u001b[43moverlap\u001b[49m\u001b[43m)\u001b[49m\u001b[43m,\u001b[49m\n\u001b[0;32m     51\u001b[0m \u001b[43m            \u001b[49m\u001b[43mpatch_size\u001b[49m\u001b[38;5;241;43m=\u001b[39;49m\u001b[43mpatch_size\u001b[49m\u001b[43m,\u001b[49m\n\u001b[0;32m     52\u001b[0m \u001b[43m            \u001b[49m\u001b[43msample\u001b[49m\u001b[38;5;241;43m=\u001b[39;49m\u001b[43msample\u001b[49m\u001b[43m,\u001b[49m\n\u001b[0;32m     53\u001b[0m \u001b[43m            \u001b[49m\u001b[43mguidance_im\u001b[49m\u001b[38;5;241;43m=\u001b[39;49m\u001b[43mguidance_padded\u001b[49m\u001b[43m,\u001b[49m\n\u001b[0;32m     54\u001b[0m \u001b[43m            \u001b[49m\u001b[43malpha\u001b[49m\u001b[38;5;241;43m=\u001b[39;49m\u001b[43malpha\u001b[49m\u001b[43m,\u001b[49m\n\u001b[0;32m     55\u001b[0m \u001b[43m            \u001b[49m\u001b[43moutput_padded\u001b[49m\u001b[38;5;241;43m=\u001b[39;49m\u001b[43moutput_padded\u001b[49m\u001b[43m,\u001b[49m\n\u001b[0;32m     56\u001b[0m \u001b[43m            \u001b[49m\u001b[43mmask_padded\u001b[49m\u001b[38;5;241;43m=\u001b[39;49m\u001b[43mmask_padded\u001b[49m\u001b[43m,\u001b[49m\n\u001b[0;32m     57\u001b[0m \u001b[43m            \u001b[49m\u001b[43mtol\u001b[49m\u001b[38;5;241;43m=\u001b[39;49m\u001b[43mtol\u001b[49m\u001b[43m,\u001b[49m\n\u001b[0;32m     58\u001b[0m \u001b[43m            \u001b[49m\u001b[43mseam_cut\u001b[49m\u001b[38;5;241;43m=\u001b[39;49m\u001b[43mseam_cut\u001b[49m\u001b[43m,\u001b[49m\n\u001b[0;32m     59\u001b[0m \u001b[43m            \u001b[49m\u001b[43moverlap\u001b[49m\u001b[38;5;241;43m=\u001b[39;49m\u001b[43moverlap\u001b[49m\u001b[43m,\u001b[49m\n\u001b[0;32m     60\u001b[0m \u001b[43m            \u001b[49m\u001b[43mrandom\u001b[49m\u001b[38;5;241;43m=\u001b[39;49m\u001b[43mrandom\u001b[49m\u001b[43m,\u001b[49m\n\u001b[0;32m     61\u001b[0m \u001b[43m            \u001b[49m\u001b[43mdisplay_seam_cut_charts\u001b[49m\u001b[38;5;241;43m=\u001b[39;49m\u001b[43m \u001b[49m\u001b[43mtile_to_stop_at\u001b[49m\u001b[43m \u001b[49m\u001b[38;5;241;43m==\u001b[39;49m\u001b[43m \u001b[49m\u001b[43mcurrent_tile\u001b[49m\n\u001b[0;32m     62\u001b[0m \u001b[43m        \u001b[49m\u001b[43m)\u001b[49m\n\u001b[0;32m     63\u001b[0m     current_tile \u001b[38;5;241m+\u001b[39m\u001b[38;5;241m=\u001b[39m \u001b[38;5;241m1\u001b[39m\n\u001b[0;32m     64\u001b[0m progress_bar\u001b[38;5;241m.\u001b[39mvalue \u001b[38;5;241m=\u001b[39m j\n",
      "Cell \u001b[1;32mIn[4], line 11\u001b[0m, in \u001b[0;36mchoose_sample\u001b[1;34m(x, y, patch_size, sample, guidance_im, alpha, output_padded, mask_padded, tol, overlap, seam_cut, random, display_seam_cut_charts)\u001b[0m\n\u001b[0;32m      9\u001b[0m T \u001b[38;5;241m=\u001b[39m output_padded[y\u001b[38;5;241m+\u001b[39mpatch_size:y\u001b[38;5;241m+\u001b[39m\u001b[38;5;241m2\u001b[39m\u001b[38;5;241m*\u001b[39mpatch_size, x\u001b[38;5;241m+\u001b[39mpatch_size:x\u001b[38;5;241m+\u001b[39m\u001b[38;5;241m2\u001b[39m\u001b[38;5;241m*\u001b[39mpatch_size]\n\u001b[0;32m     10\u001b[0m M \u001b[38;5;241m=\u001b[39m mask_padded[y\u001b[38;5;241m+\u001b[39mpatch_size:y\u001b[38;5;241m+\u001b[39m\u001b[38;5;241m2\u001b[39m\u001b[38;5;241m*\u001b[39mpatch_size, x\u001b[38;5;241m+\u001b[39mpatch_size:x\u001b[38;5;241m+\u001b[39m\u001b[38;5;241m2\u001b[39m\u001b[38;5;241m*\u001b[39mpatch_size]\n\u001b[1;32m---> 11\u001b[0m ssd_image \u001b[38;5;241m=\u001b[39m \u001b[43mssd_image_generate\u001b[49m\u001b[43m(\u001b[49m\n\u001b[0;32m     12\u001b[0m \u001b[43m    \u001b[49m\u001b[43mT\u001b[49m\u001b[38;5;241;43m=\u001b[39;49m\u001b[43mT\u001b[49m\u001b[43m,\u001b[49m\u001b[43m \u001b[49m\n\u001b[0;32m     13\u001b[0m \u001b[43m    \u001b[49m\u001b[43mM\u001b[49m\u001b[38;5;241;43m=\u001b[39;49m\u001b[43mM\u001b[49m\u001b[43m,\u001b[49m\u001b[43m \u001b[49m\n\u001b[0;32m     14\u001b[0m \u001b[43m    \u001b[49m\u001b[43mI\u001b[49m\u001b[38;5;241;43m=\u001b[39;49m\u001b[43msample\u001b[49m\n\u001b[0;32m     15\u001b[0m \u001b[43m\u001b[49m\u001b[43m)\u001b[49m\n\u001b[0;32m     16\u001b[0m ssd_guidance \u001b[38;5;241m=\u001b[39m ssd_image_generate(\n\u001b[0;32m     17\u001b[0m     T\u001b[38;5;241m=\u001b[39mguidance_im[y\u001b[38;5;241m+\u001b[39mpatch_size:y\u001b[38;5;241m+\u001b[39m\u001b[38;5;241m2\u001b[39m\u001b[38;5;241m*\u001b[39mpatch_size, x\u001b[38;5;241m+\u001b[39mpatch_size:x\u001b[38;5;241m+\u001b[39m\u001b[38;5;241m2\u001b[39m\u001b[38;5;241m*\u001b[39mpatch_size],\n\u001b[0;32m     18\u001b[0m     M\u001b[38;5;241m=\u001b[39mM,\n\u001b[0;32m     19\u001b[0m     I\u001b[38;5;241m=\u001b[39msample\n\u001b[0;32m     20\u001b[0m )\n\u001b[0;32m     21\u001b[0m patch_coords \u001b[38;5;241m=\u001b[39m get_patch_ssd(\n\u001b[0;32m     22\u001b[0m     ssd_image\u001b[38;5;241m=\u001b[39mssd_image\u001b[38;5;241m*\u001b[39m(\u001b[38;5;241m1\u001b[39m\u001b[38;5;241m-\u001b[39malpha) \u001b[38;5;241m+\u001b[39m ssd_guidance\u001b[38;5;241m*\u001b[39malpha,\n\u001b[0;32m     23\u001b[0m     tol\u001b[38;5;241m=\u001b[39mtol,\n\u001b[0;32m     24\u001b[0m     patch_size\u001b[38;5;241m=\u001b[39mpatch_size\n\u001b[0;32m     25\u001b[0m )\n",
      "Cell \u001b[1;32mIn[4], line 134\u001b[0m, in \u001b[0;36mssd_image_generate\u001b[1;34m(T, M, I)\u001b[0m\n\u001b[0;32m    132\u001b[0m \u001b[38;5;28;01mdef\u001b[39;00m \u001b[38;5;21mssd_image_generate\u001b[39m(T, M, I):\n\u001b[0;32m    133\u001b[0m     ssd_cost_r \u001b[38;5;241m=\u001b[39m ((M\u001b[38;5;241m*\u001b[39mT[:,:,\u001b[38;5;241m0\u001b[39m])\u001b[38;5;241m*\u001b[39m\u001b[38;5;241m*\u001b[39m\u001b[38;5;241m2\u001b[39m)\u001b[38;5;241m.\u001b[39msum() \u001b[38;5;241m-\u001b[39m \u001b[38;5;241m2\u001b[39m \u001b[38;5;241m*\u001b[39m cv2\u001b[38;5;241m.\u001b[39mfilter2D(I[:,:,\u001b[38;5;241m0\u001b[39m], ddepth\u001b[38;5;241m=\u001b[39m\u001b[38;5;241m-\u001b[39m\u001b[38;5;241m1\u001b[39m, kernel \u001b[38;5;241m=\u001b[39m M\u001b[38;5;241m*\u001b[39mT[:,:,\u001b[38;5;241m0\u001b[39m]) \u001b[38;5;241m+\u001b[39m cv2\u001b[38;5;241m.\u001b[39mfilter2D(I[:,:,\u001b[38;5;241m0\u001b[39m] \u001b[38;5;241m*\u001b[39m\u001b[38;5;241m*\u001b[39m \u001b[38;5;241m2\u001b[39m, ddepth\u001b[38;5;241m=\u001b[39m\u001b[38;5;241m-\u001b[39m\u001b[38;5;241m1\u001b[39m, kernel\u001b[38;5;241m=\u001b[39mM)\n\u001b[1;32m--> 134\u001b[0m     ssd_cost_g \u001b[38;5;241m=\u001b[39m ((M\u001b[38;5;241m*\u001b[39mT[:,:,\u001b[38;5;241m1\u001b[39m])\u001b[38;5;241m*\u001b[39m\u001b[38;5;241m*\u001b[39m\u001b[38;5;241m2\u001b[39m)\u001b[38;5;241m.\u001b[39msum() \u001b[38;5;241m-\u001b[39m \u001b[38;5;241m2\u001b[39m \u001b[38;5;241m*\u001b[39m cv2\u001b[38;5;241m.\u001b[39mfilter2D(I[:,:,\u001b[38;5;241m1\u001b[39m], ddepth\u001b[38;5;241m=\u001b[39m\u001b[38;5;241m-\u001b[39m\u001b[38;5;241m1\u001b[39m, kernel \u001b[38;5;241m=\u001b[39m M\u001b[38;5;241m*\u001b[39mT[:,:,\u001b[38;5;241m1\u001b[39m]) \u001b[38;5;241m+\u001b[39m \u001b[43mcv2\u001b[49m\u001b[38;5;241;43m.\u001b[39;49m\u001b[43mfilter2D\u001b[49m\u001b[43m(\u001b[49m\u001b[43mI\u001b[49m\u001b[43m[\u001b[49m\u001b[43m:\u001b[49m\u001b[43m,\u001b[49m\u001b[43m:\u001b[49m\u001b[43m,\u001b[49m\u001b[38;5;241;43m1\u001b[39;49m\u001b[43m]\u001b[49m\u001b[43m \u001b[49m\u001b[38;5;241;43m*\u001b[39;49m\u001b[38;5;241;43m*\u001b[39;49m\u001b[43m \u001b[49m\u001b[38;5;241;43m2\u001b[39;49m\u001b[43m,\u001b[49m\u001b[43m \u001b[49m\u001b[43mddepth\u001b[49m\u001b[38;5;241;43m=\u001b[39;49m\u001b[38;5;241;43m-\u001b[39;49m\u001b[38;5;241;43m1\u001b[39;49m\u001b[43m,\u001b[49m\u001b[43m \u001b[49m\u001b[43mkernel\u001b[49m\u001b[38;5;241;43m=\u001b[39;49m\u001b[43mM\u001b[49m\u001b[43m)\u001b[49m\n\u001b[0;32m    135\u001b[0m     ssd_cost_b \u001b[38;5;241m=\u001b[39m ((M\u001b[38;5;241m*\u001b[39mT[:,:,\u001b[38;5;241m2\u001b[39m])\u001b[38;5;241m*\u001b[39m\u001b[38;5;241m*\u001b[39m\u001b[38;5;241m2\u001b[39m)\u001b[38;5;241m.\u001b[39msum() \u001b[38;5;241m-\u001b[39m \u001b[38;5;241m2\u001b[39m \u001b[38;5;241m*\u001b[39m cv2\u001b[38;5;241m.\u001b[39mfilter2D(I[:,:,\u001b[38;5;241m2\u001b[39m], ddepth\u001b[38;5;241m=\u001b[39m\u001b[38;5;241m-\u001b[39m\u001b[38;5;241m1\u001b[39m, kernel \u001b[38;5;241m=\u001b[39m M\u001b[38;5;241m*\u001b[39mT[:,:,\u001b[38;5;241m2\u001b[39m]) \u001b[38;5;241m+\u001b[39m cv2\u001b[38;5;241m.\u001b[39mfilter2D(I[:,:,\u001b[38;5;241m2\u001b[39m] \u001b[38;5;241m*\u001b[39m\u001b[38;5;241m*\u001b[39m \u001b[38;5;241m2\u001b[39m, ddepth\u001b[38;5;241m=\u001b[39m\u001b[38;5;241m-\u001b[39m\u001b[38;5;241m1\u001b[39m, kernel\u001b[38;5;241m=\u001b[39mM)\n\u001b[0;32m    136\u001b[0m     ssd_map \u001b[38;5;241m=\u001b[39m np\u001b[38;5;241m.\u001b[39marray(ssd_cost_r \u001b[38;5;241m+\u001b[39m ssd_cost_g \u001b[38;5;241m+\u001b[39m ssd_cost_b)\n",
      "\u001b[1;31mKeyboardInterrupt\u001b[0m: "
     ]
    }
   ],
   "source": [
    "# load/process appropriate input texture and guidance images\n",
    "texture_img_fn = datadir + '/samples/sketch.tiff'\n",
    "texture_img = cv2.cvtColor(cv2.imread(texture_img_fn), cv2.COLOR_BGR2RGB)\n",
    "guidance_img_fn = datadir + '/samples/feynman.tiff'\n",
    "guidance_img = cv2.cvtColor(cv2.imread(guidance_img_fn), cv2.COLOR_BGR2RGB)\n",
    "patch_size = 25\n",
    "overlap = 11\n",
    "tol = 3\n",
    "alpha = 0.5\n",
    "res = texture_transfer(texture_img, patch_size, overlap, tol, guidance_img, alpha)\n",
    "\n",
    "cv2.imwrite(\"Test.png\", res)\n",
    "\n",
    "# plt.figure(figsize=(15,15))\n",
    "# plt.imshow(res)\n",
    "# plt.show()"
   ]
  },
  {
   "cell_type": "code",
   "execution_count": 30,
   "metadata": {},
   "outputs": [
    {
     "data": {
      "application/vnd.jupyter.widget-view+json": {
       "model_id": "f3bada4aac85478080cba08babb13ae7",
       "version_major": 2,
       "version_minor": 0
      },
      "text/plain": [
       "IntProgress(value=0, max=47)"
      ]
     },
     "metadata": {},
     "output_type": "display_data"
    },
    {
     "data": {
      "application/vnd.jupyter.widget-view+json": {
       "model_id": "8406cdcacc3a4078b1409b75b47fbfc7",
       "version_major": 2,
       "version_minor": 0
      },
      "text/plain": [
       "IntProgress(value=0, max=26)"
      ]
     },
     "metadata": {},
     "output_type": "display_data"
    },
    {
     "data": {
      "application/vnd.jupyter.widget-view+json": {
       "model_id": "a0ac00e357e343b5bfb057d77ad0322c",
       "version_major": 2,
       "version_minor": 0
      },
      "text/plain": [
       "IntProgress(value=0, max=35)"
      ]
     },
     "metadata": {},
     "output_type": "display_data"
    },
    {
     "data": {
      "application/vnd.jupyter.widget-view+json": {
       "model_id": "43028710e0b04ea2867217a4ffd71ba1",
       "version_major": 2,
       "version_minor": 0
      },
      "text/plain": [
       "IntProgress(value=0, max=26)"
      ]
     },
     "metadata": {},
     "output_type": "display_data"
    },
    {
     "data": {
      "application/vnd.jupyter.widget-view+json": {
       "model_id": "93dd28aad3674b63977beb7b111425d9",
       "version_major": 2,
       "version_minor": 0
      },
      "text/plain": [
       "IntProgress(value=0, max=47)"
      ]
     },
     "metadata": {},
     "output_type": "display_data"
    },
    {
     "data": {
      "application/vnd.jupyter.widget-view+json": {
       "model_id": "86a31f9ded8f4f3f9c84aed758ef0a10",
       "version_major": 2,
       "version_minor": 0
      },
      "text/plain": [
       "IntProgress(value=0, max=26)"
      ]
     },
     "metadata": {},
     "output_type": "display_data"
    },
    {
     "data": {
      "application/vnd.jupyter.widget-view+json": {
       "model_id": "1be6f2757f4b4f26a55bef8c5aec7f5f",
       "version_major": 2,
       "version_minor": 0
      },
      "text/plain": [
       "IntProgress(value=0, max=26)"
      ]
     },
     "metadata": {},
     "output_type": "display_data"
    },
    {
     "data": {
      "application/vnd.jupyter.widget-view+json": {
       "model_id": "e1ed7f8d4b084282b2064e686ff3e419",
       "version_major": 2,
       "version_minor": 0
      },
      "text/plain": [
       "IntProgress(value=0, max=47)"
      ]
     },
     "metadata": {},
     "output_type": "display_data"
    },
    {
     "data": {
      "application/vnd.jupyter.widget-view+json": {
       "model_id": "81d295efd07846dfb231a4a14e4c6383",
       "version_major": 2,
       "version_minor": 0
      },
      "text/plain": [
       "IntProgress(value=0, max=26)"
      ]
     },
     "metadata": {},
     "output_type": "display_data"
    },
    {
     "data": {
      "application/vnd.jupyter.widget-view+json": {
       "model_id": "27a7c326aaa8489a8479a40733027400",
       "version_major": 2,
       "version_minor": 0
      },
      "text/plain": [
       "IntProgress(value=0, max=34)"
      ]
     },
     "metadata": {},
     "output_type": "display_data"
    },
    {
     "data": {
      "application/vnd.jupyter.widget-view+json": {
       "model_id": "31b1c709ff934630a4d604d0f25cbcbf",
       "version_major": 2,
       "version_minor": 0
      },
      "text/plain": [
       "IntProgress(value=0, max=26)"
      ]
     },
     "metadata": {},
     "output_type": "display_data"
    }
   ],
   "source": [
    "style_src = \"../resources/style/bazille_and_camille_(study_for__dejeuner_sur_l'herbe_)_1970.17.41.jpg\"\n",
    "style_img = cv2.cvtColor(cv2.imread(style_src), cv2.COLOR_BGR2RGB)\n",
    "guidance_imgs_folder = \"../resources/input-gan\"\n",
    "\n",
    "style_img = cv2.resize(style_img, (500, round(style_img.shape[0]/style_img.shape[1]*500)))\n",
    "# plt.figure()\n",
    "# plt.imshow(style_img)\n",
    "\n",
    "from PIL import Image\n",
    "import os\n",
    "\n",
    "output_directory = \"../resources/texture-transfer\"\n",
    "\n",
    "output_ext = \"-tt.jpg\"\n",
    "\n",
    "N_inputs = len(os.listdir(guidance_imgs_folder))\n",
    "\n",
    "for input_idx in range(N_inputs):\n",
    "    input_src = guidance_imgs_folder + \"/\" + os.listdir(guidance_imgs_folder)[input_idx]\n",
    "    # https://stackoverflow.com/questions/678236/how-do-i-get-the-filename-without-the-extension-from-a-path-in-python\n",
    "    output_src = output_directory + \"/\"+ os.path.splitext(os.path.basename(os.listdir(guidance_imgs_folder)[input_idx]))[0] + output_ext\n",
    "    input_img = cv2.cvtColor(cv2.imread(input_src), cv2.COLOR_BGR2RGB)\n",
    "    input_img = cv2.resize(input_img, (500, round(input_img.shape[0]/input_img.shape[1]*500)))\n",
    "    patch_size = 25\n",
    "    overlap = 11\n",
    "    tol = 3\n",
    "    alpha = 0.5\n",
    "    res = texture_transfer(style_img, patch_size, overlap, tol, input_img, alpha)\n",
    "    cv2.imwrite(output_src, res)\n",
    "    "
   ]
  }
 ],
 "metadata": {
  "kernelspec": {
   "display_name": ".myenv",
   "language": "python",
   "name": "python3"
  },
  "language_info": {
   "codemirror_mode": {
    "name": "ipython",
    "version": 3
   },
   "file_extension": ".py",
   "mimetype": "text/x-python",
   "name": "python",
   "nbconvert_exporter": "python",
   "pygments_lexer": "ipython3",
   "version": "3.10.4"
  }
 },
 "nbformat": 4,
 "nbformat_minor": 2
}
